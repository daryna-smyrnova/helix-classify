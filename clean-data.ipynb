{
 "cells": [
  {
   "cell_type": "code",
   "execution_count": 16,
   "metadata": {
    "collapsed": true
   },
   "outputs": [],
   "source": [
    "import pandas as pd\n",
    "import numpy as np\n",
    "import sys"
   ]
  },
  {
   "cell_type": "code",
   "execution_count": 17,
   "metadata": {
    "collapsed": false
   },
   "outputs": [],
   "source": [
    "#filein = sys.argv[-1:]\n",
    "filein = 'run_it019_data.star'\n",
    "fileout = 'clean_data'\n",
    "data = pd.read_csv(filein, header = 35, sep='\\s+|\\t+|\\n+', engine = 'python', usecols=[2,28], names=['helixID','2Dclass'])"
   ]
  },
  {
   "cell_type": "code",
   "execution_count": 18,
   "metadata": {
    "collapsed": false
   },
   "outputs": [],
   "source": [
    "summa = 0\n",
    "helix = 0\n",
    "new_helix = pd.DataFrame()\n",
    "for idx in data['helixID'].index:\n",
    "    if data.iloc[idx-1,0] <= data.iloc[idx,0]:\n",
    "        summa = data.iloc[idx,0] + helix - 1\n",
    "        new_helix = new_helix.append([summa], ignore_index=True)\n",
    "    else:    \n",
    "        helix = data.iloc[idx,0] + summa\n",
    "        new_helix = new_helix.append([helix], ignore_index=True)\n"
   ]
  },
  {
   "cell_type": "code",
   "execution_count": 21,
   "metadata": {
    "collapsed": false
   },
   "outputs": [],
   "source": [
    "data['helixNew']= new_helix\n",
    "data = data.drop(['helixID'], axis=1)"
   ]
  },
  {
   "cell_type": "code",
   "execution_count": 22,
   "metadata": {
    "collapsed": false
   },
   "outputs": [
    {
     "data": {
      "text/html": [
       "<div>\n",
       "<table border=\"1\" class=\"dataframe\">\n",
       "  <thead>\n",
       "    <tr style=\"text-align: right;\">\n",
       "      <th></th>\n",
       "      <th>2Dclass</th>\n",
       "      <th>helixNew</th>\n",
       "    </tr>\n",
       "  </thead>\n",
       "  <tbody>\n",
       "    <tr>\n",
       "      <th>0</th>\n",
       "      <td>97</td>\n",
       "      <td>1</td>\n",
       "    </tr>\n",
       "    <tr>\n",
       "      <th>1</th>\n",
       "      <td>71</td>\n",
       "      <td>1</td>\n",
       "    </tr>\n",
       "    <tr>\n",
       "      <th>2</th>\n",
       "      <td>71</td>\n",
       "      <td>2</td>\n",
       "    </tr>\n",
       "    <tr>\n",
       "      <th>3</th>\n",
       "      <td>97</td>\n",
       "      <td>2</td>\n",
       "    </tr>\n",
       "    <tr>\n",
       "      <th>4</th>\n",
       "      <td>57</td>\n",
       "      <td>2</td>\n",
       "    </tr>\n",
       "  </tbody>\n",
       "</table>\n",
       "</div>"
      ],
      "text/plain": [
       "   2Dclass  helixNew\n",
       "0       97         1\n",
       "1       71         1\n",
       "2       71         2\n",
       "3       97         2\n",
       "4       57         2"
      ]
     },
     "execution_count": 22,
     "metadata": {},
     "output_type": "execute_result"
    }
   ],
   "source": [
    "data = data.drop_duplicates().reset_index(drop=True)\n",
    "data.head()"
   ]
  },
  {
   "cell_type": "code",
   "execution_count": 24,
   "metadata": {
    "collapsed": false
   },
   "outputs": [],
   "source": [
    "n = 1\n",
    "node1 = pd.DataFrame()\n",
    "node2 = pd.DataFrame()\n",
    "network = pd.DataFrame()\n",
    "\n",
    "for idx in data['helixNew'].index:\n",
    "    if data.iloc[idx-1,1] == data.iloc[idx,1]:\n",
    "        node1 = node1.append([data.iloc[idx,0]], ignore_index=True)\n",
    "        node2 = node2.append([data.iloc[idx-1,0]],ignore_index=True )"
   ]
  },
  {
   "cell_type": "code",
   "execution_count": 25,
   "metadata": {
    "collapsed": false
   },
   "outputs": [
    {
     "data": {
      "text/plain": [
       "(    0\n",
       " 0  71\n",
       " 1  97\n",
       " 2  57\n",
       " 3  42\n",
       " 4  71,     0\n",
       " 0  97\n",
       " 1  71\n",
       " 2  97\n",
       " 3  97\n",
       " 4  42)"
      ]
     },
     "execution_count": 25,
     "metadata": {},
     "output_type": "execute_result"
    }
   ],
   "source": [
    "node1.head(), node2.head()"
   ]
  },
  {
   "cell_type": "code",
   "execution_count": 26,
   "metadata": {
    "collapsed": true
   },
   "outputs": [],
   "source": [
    "network = pd.concat([node1, node2], axis = 1)\n",
    "network.columns = ['node1','node2']\n",
    "network = network.groupby(network.columns.tolist()).size().reset_index().rename(columns={0:'count'})\n"
   ]
  },
  {
   "cell_type": "code",
   "execution_count": 27,
   "metadata": {
    "collapsed": true
   },
   "outputs": [],
   "source": [
    "network.to_csv(fileout, sep='\\t', index=False)"
   ]
  },
  {
   "cell_type": "code",
   "execution_count": null,
   "metadata": {
    "collapsed": true
   },
   "outputs": [],
   "source": []
  }
 ],
 "metadata": {
  "anaconda-cloud": {},
  "kernelspec": {
   "display_name": "Python [default]",
   "language": "python",
   "name": "python3"
  },
  "language_info": {
   "codemirror_mode": {
    "name": "ipython",
    "version": 3
   },
   "file_extension": ".py",
   "mimetype": "text/x-python",
   "name": "python",
   "nbconvert_exporter": "python",
   "pygments_lexer": "ipython3",
   "version": "3.5.2"
  }
 },
 "nbformat": 4,
 "nbformat_minor": 1
}
